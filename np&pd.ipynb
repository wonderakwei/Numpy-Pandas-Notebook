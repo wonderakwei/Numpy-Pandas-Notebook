{
 "cells": [
  {
   "cell_type": "code",
   "execution_count": 13,
   "id": "7a25a721",
   "metadata": {},
   "outputs": [],
   "source": [
    "import pandas as pd\n",
    "import numpy as np"
   ]
  },
  {
   "cell_type": "code",
   "execution_count": 3,
   "id": "7f86a9b1",
   "metadata": {},
   "outputs": [
    {
     "data": {
      "text/plain": [
       "'2.1.3'"
      ]
     },
     "execution_count": 3,
     "metadata": {},
     "output_type": "execute_result"
    }
   ],
   "source": [
    "pd.__version__"
   ]
  },
  {
   "cell_type": "code",
   "execution_count": 5,
   "id": "f3e7060f",
   "metadata": {},
   "outputs": [
    {
     "name": "stdout",
     "output_type": "stream",
     "text": [
      "                                              Laptop Status   Brand  \\\n",
      "0  ASUS ExpertBook B1 B1502CBA-EJ0436X Intel Core...    New    Asus   \n",
      "1  Alurin Go Start Intel Celeron N4020/8GB/256GB ...    New  Alurin   \n",
      "2  ASUS ExpertBook B1 B1502CBA-EJ0424X Intel Core...    New    Asus   \n",
      "3  MSI Katana GF66 12UC-082XES Intel Core i7-1270...    New     MSI   \n",
      "4  HP 15S-FQ5085NS Intel Core i5-1235U/16GB/512GB...    New      HP   \n",
      "\n",
      "        Model            CPU  RAM  Storage Storage type       GPU  Screen  \\\n",
      "0  ExpertBook  Intel Core i5    8      512          SSD       NaN    15.6   \n",
      "1          Go  Intel Celeron    8      256          SSD       NaN    15.6   \n",
      "2  ExpertBook  Intel Core i3    8      256          SSD       NaN    15.6   \n",
      "3      Katana  Intel Core i7   16     1000          SSD  RTX 3050    15.6   \n",
      "4         15S  Intel Core i5   16      512          SSD       NaN    15.6   \n",
      "\n",
      "  Touch  Final Price  \n",
      "0    No      1009.00  \n",
      "1    No       299.00  \n",
      "2    No       789.00  \n",
      "3    No      1199.00  \n",
      "4    No       669.01  \n"
     ]
    }
   ],
   "source": [
    "# Load the dataset\n",
    "df = pd.read_csv('https://raw.githubusercontent.com/alexeygrigorev/datasets/master/laptops.csv')\n",
    "\n",
    "# Preview the first few rows\n",
    "print(df.head())"
   ]
  },
  {
   "cell_type": "code",
   "execution_count": 6,
   "id": "3bb4547b",
   "metadata": {},
   "outputs": [
    {
     "name": "stdout",
     "output_type": "stream",
     "text": [
      "Number of records: 2160\n"
     ]
    }
   ],
   "source": [
    "# Get the number of rows (records)\n",
    "record_count = df.shape[0]\n",
    "\n",
    "# Output the result\n",
    "print(f\"Number of records: {record_count}\")"
   ]
  },
  {
   "cell_type": "code",
   "execution_count": 7,
   "id": "dc41f399",
   "metadata": {},
   "outputs": [
    {
     "name": "stdout",
     "output_type": "stream",
     "text": [
      "Number of unique laptop brands: 27\n"
     ]
    }
   ],
   "source": [
    "# Find the number of unique brands\n",
    "unique_brands = df['Brand'].nunique()\n",
    "\n",
    "# Output the result\n",
    "print(f\"Number of unique laptop brands: {unique_brands}\")"
   ]
  },
  {
   "cell_type": "code",
   "execution_count": 8,
   "id": "dc556290",
   "metadata": {},
   "outputs": [
    {
     "name": "stdout",
     "output_type": "stream",
     "text": [
      "Number of columns with missing values: 3\n"
     ]
    }
   ],
   "source": [
    "# Check how many columns have missing values\n",
    "missing_columns = df.isnull().sum()\n",
    "\n",
    "# Count how many columns have at least one missing value\n",
    "columns_with_missing_values = (missing_columns > 0).sum()\n",
    "\n",
    "# Output the result\n",
    "print(f\"Number of columns with missing values: {columns_with_missing_values}\")"
   ]
  },
  {
   "cell_type": "code",
   "execution_count": 10,
   "id": "bfc39e2f",
   "metadata": {},
   "outputs": [
    {
     "name": "stdout",
     "output_type": "stream",
     "text": [
      "The maximum final price of Dell notebooks: 3936.0\n"
     ]
    }
   ],
   "source": [
    "# Filter for Dell notebooks and find the maximum final price\n",
    "max_dell_price = df[df['Brand'] == 'Dell']['Final Price'].max()\n",
    "\n",
    "# Output the result\n",
    "print(f\"The maximum final price of Dell notebooks: {max_dell_price}\")"
   ]
  },
  {
   "cell_type": "code",
   "execution_count": 11,
   "id": "99f5b3f2",
   "metadata": {},
   "outputs": [
    {
     "name": "stdout",
     "output_type": "stream",
     "text": [
      "Original median of Screen: 15.6\n",
      "Most frequent value of Screen: 15.6\n",
      "New median of Screen after filling missing values: 15.6\n",
      "Has the median changed? No\n"
     ]
    }
   ],
   "source": [
    "# 1. Find the median value of the Screen column\n",
    "original_median_screen = df['Screen'].median()\n",
    "\n",
    "# 2. Find the most frequent (mode) value of the Screen column\n",
    "most_frequent_screen = df['Screen'].mode()[0]\n",
    "\n",
    "# 3. Fill missing values in the Screen column with the most frequent value\n",
    "df['Screen'].fillna(most_frequent_screen, inplace=True)\n",
    "\n",
    "# 4. Recalculate the median of the Screen column\n",
    "new_median_screen = df['Screen'].median()\n",
    "\n",
    "# Check if the median has changed\n",
    "has_changed = original_median_screen != new_median_screen\n",
    "\n",
    "# Output the results\n",
    "print(f\"Original median of Screen: {original_median_screen}\")\n",
    "print(f\"Most frequent value of Screen: {most_frequent_screen}\")\n",
    "print(f\"New median of Screen after filling missing values: {new_median_screen}\")\n",
    "print(f\"Has the median changed? {'Yes' if has_changed else 'No'}\")"
   ]
  },
  {
   "cell_type": "code",
   "execution_count": 14,
   "id": "e93238c5",
   "metadata": {},
   "outputs": [
    {
     "name": "stdout",
     "output_type": "stream",
     "text": [
      "Sum of all elements of w: 91.29988062995588\n"
     ]
    }
   ],
   "source": [
    "# 1. Select all the \"Innjoo\" laptops and specific columns\n",
    "innjoo_laptops = df[df['Brand'] == 'Innjoo'][['RAM', 'Storage', 'Screen']]\n",
    "\n",
    "# 2. Convert the DataFrame to a NumPy array (X)\n",
    "X = innjoo_laptops.to_numpy()\n",
    "\n",
    "# 3. Compute XTX (X.T @ X)\n",
    "XTX = X.T @ X\n",
    "\n",
    "# 4. Compute the inverse of XTX\n",
    "XTX_inv = np.linalg.inv(XTX)\n",
    "\n",
    "# 5. Create an array y with values [1100, 1300, 800, 900, 1000, 1100]\n",
    "y = np.array([1100, 1300, 800, 900, 1000, 1100])\n",
    "\n",
    "# 6. Multiply XTX_inv with X.T and then by y to get the result w\n",
    "w = XTX_inv @ X.T @ y\n",
    "\n",
    "# 7. Compute the sum of all elements of w\n",
    "sum_of_w = w.sum()\n",
    "\n",
    "# Output the result\n",
    "print(f\"Sum of all elements of w: {sum_of_w}\")"
   ]
  },
  {
   "cell_type": "code",
   "execution_count": null,
   "id": "a0e82a62",
   "metadata": {},
   "outputs": [],
   "source": []
  }
 ],
 "metadata": {
  "kernelspec": {
   "display_name": "Python 3 (ipykernel)",
   "language": "python",
   "name": "python3"
  },
  "language_info": {
   "codemirror_mode": {
    "name": "ipython",
    "version": 3
   },
   "file_extension": ".py",
   "mimetype": "text/x-python",
   "name": "python",
   "nbconvert_exporter": "python",
   "pygments_lexer": "ipython3",
   "version": "3.11.3"
  }
 },
 "nbformat": 4,
 "nbformat_minor": 5
}
