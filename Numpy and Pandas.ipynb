{
 "cells": [
  {
   "cell_type": "markdown",
   "id": "881440a7",
   "metadata": {},
   "source": [
    "## Importing numpy"
   ]
  },
  {
   "cell_type": "code",
   "execution_count": 1,
   "id": "85b3bf7e",
   "metadata": {},
   "outputs": [],
   "source": [
    "import numpy as np"
   ]
  },
  {
   "cell_type": "markdown",
   "id": "40a9767c",
   "metadata": {},
   "source": [
    "## Array: The Fundamental Data Structure in Numpy"
   ]
  },
  {
   "cell_type": "markdown",
   "id": "1c837bd7",
   "metadata": {},
   "source": [
    "Numpy is fundamentally based on arrays, N-dimensional data structures. Here we mainly stay with one- and two-dimensional structures (vectors and matrices) but the arrays can also have higher dimension (called tensors). Besides arrays, numpy also provides a plethora of functions that operate on the arrays, including vectorized mathematics and logical operations.\n",
    "\n",
    "Arrays can be created with np.array. For instance, we can create a 1-D vector of numbers from 1 to 4 by feeding a list of desired numbers to the np.array\n",
    "\n",
    "\n"
   ]
  },
  {
   "cell_type": "code",
   "execution_count": 2,
   "id": "cccab4be",
   "metadata": {},
   "outputs": [
    {
     "name": "stdout",
     "output_type": "stream",
     "text": [
      "a:\n",
      " [1 2 3 4]\n"
     ]
    }
   ],
   "source": [
    "a = np.array([1,2,3,4])\n",
    "print(\"a:\\n\", a)"
   ]
  },
  {
   "cell_type": "markdown",
   "id": "19b71558",
   "metadata": {},
   "source": [
    "Note that it is printed in brackets as list, but unlike a list, it does not have commas separating the components."
   ]
  },
  {
   "cell_type": "markdown",
   "id": "acde280e",
   "metadata": {},
   "source": [
    "If we want to create a matrix (two-dimensional array), we can feed np.array with a list of lists, one sublist for each row of the matrix:"
   ]
  },
  {
   "cell_type": "code",
   "execution_count": 3,
   "id": "5ee6d151",
   "metadata": {},
   "outputs": [
    {
     "name": "stdout",
     "output_type": "stream",
     "text": [
      "b:\n",
      " [[1 2]\n",
      " [3 4]]\n"
     ]
    }
   ],
   "source": [
    "b = np.array([[1,2], [3,4]])\n",
    "print(\"b:\\n\", b)"
   ]
  },
  {
   "cell_type": "markdown",
   "id": "e92d3064",
   "metadata": {},
   "source": [
    "The output does not have the best formatting but it is clear enough."
   ]
  },
  {
   "cell_type": "markdown",
   "id": "04b829c4",
   "metadata": {},
   "source": [
    "One of the fundamental property of arrays is its dimension, called shape in numpy. Shape is array’s size along all of its dimensions. This can be queried by attribute .shape which returns the sizes in a form of a tuple:"
   ]
  },
  {
   "cell_type": "code",
   "execution_count": 4,
   "id": "38c40730",
   "metadata": {},
   "outputs": [
    {
     "data": {
      "text/plain": [
       "(4,)"
      ]
     },
     "execution_count": 4,
     "metadata": {},
     "output_type": "execute_result"
    }
   ],
   "source": [
    "a.shape"
   ]
  },
  {
   "cell_type": "code",
   "execution_count": 5,
   "id": "9fa57224",
   "metadata": {},
   "outputs": [
    {
     "data": {
      "text/plain": [
       "(2, 2)"
      ]
     },
     "execution_count": 5,
     "metadata": {},
     "output_type": "execute_result"
    }
   ],
   "source": [
    "b.shape"
   ]
  },
  {
   "cell_type": "markdown",
   "id": "9247377b",
   "metadata": {},
   "source": [
    "One can see that vector a has a single dimension of size 4, and matrix b has two dimensions, both of size 2 (remember: (4,) is a tuple of length 1!)."
   ]
  },
  {
   "cell_type": "markdown",
   "id": "3cbfeece",
   "metadata": {},
   "source": [
    "One can also reshape arrays, i.e. change their shape into another compatible shape. This can be achieved with .reshape() method. .reshape takes one argument, the new shape (as a tuple) of the array. For instance, we can reshape the length-4 vector into a 2x2 matrix as"
   ]
  },
  {
   "cell_type": "code",
   "execution_count": 6,
   "id": "ce0c8c66",
   "metadata": {},
   "outputs": [
    {
     "data": {
      "text/plain": [
       "array([[1, 2],\n",
       "       [3, 4]])"
      ]
     },
     "execution_count": 6,
     "metadata": {},
     "output_type": "execute_result"
    }
   ],
   "source": [
    "a.reshape((2,2))"
   ]
  },
  {
   "cell_type": "markdown",
   "id": "9028996a",
   "metadata": {},
   "source": [
    "and we can “straighten” matrix b into a vector with:"
   ]
  },
  {
   "cell_type": "code",
   "execution_count": 7,
   "id": "cf355087",
   "metadata": {},
   "outputs": [
    {
     "data": {
      "text/plain": [
       "array([1, 2, 3, 4])"
      ]
     },
     "execution_count": 7,
     "metadata": {},
     "output_type": "execute_result"
    }
   ],
   "source": [
    "b.reshape((4,))"
   ]
  },
  {
   "cell_type": "markdown",
   "id": "1ea886cc",
   "metadata": {},
   "source": [
    "## Creating Arrays"
   ]
  },
  {
   "cell_type": "markdown",
   "id": "1e8a0ac2",
   "metadata": {},
   "source": [
    "Sometimes it is practical to create arrays manually as we did above, but usually it is much more important to make those by computation. Below we list a few options.\n",
    "\n",
    "np.arange creates sequences, quite a bit like range, but the result will be a numpy vector. If needed, we can reshape the vector into a desired format:"
   ]
  },
  {
   "cell_type": "code",
   "execution_count": 8,
   "id": "a3680eb8",
   "metadata": {},
   "outputs": [
    {
     "data": {
      "text/plain": [
       "array([0, 1, 2, 3, 4, 5, 6, 7, 8, 9])"
      ]
     },
     "execution_count": 8,
     "metadata": {},
     "output_type": "execute_result"
    }
   ],
   "source": [
    "np.arange(10)  # vector of length 10"
   ]
  },
  {
   "cell_type": "code",
   "execution_count": 9,
   "id": "1f113cc2",
   "metadata": {},
   "outputs": [
    {
     "data": {
      "text/plain": [
       "array([[0, 1, 2, 3, 4],\n",
       "       [5, 6, 7, 8, 9]])"
      ]
     },
     "execution_count": 9,
     "metadata": {},
     "output_type": "execute_result"
    }
   ],
   "source": [
    "np.arange(10).reshape((2,5))  # 2x5 matrix"
   ]
  },
  {
   "cell_type": "markdown",
   "id": "d9ce6ced",
   "metadata": {},
   "source": [
    "np.zeros and np.ones create arrays filled with zeros and ones respectively:"
   ]
  },
  {
   "cell_type": "code",
   "execution_count": 10,
   "id": "8e91c532",
   "metadata": {},
   "outputs": [
    {
     "data": {
      "text/plain": [
       "array([0., 0., 0., 0., 0.])"
      ]
     },
     "execution_count": 10,
     "metadata": {},
     "output_type": "execute_result"
    }
   ],
   "source": [
    "np.zeros((5,))"
   ]
  },
  {
   "cell_type": "code",
   "execution_count": 11,
   "id": "30e83696",
   "metadata": {},
   "outputs": [
    {
     "data": {
      "text/plain": [
       "array([[1., 1., 1., 1.],\n",
       "       [1., 1., 1., 1.]])"
      ]
     },
     "execution_count": 11,
     "metadata": {},
     "output_type": "execute_result"
    }
   ],
   "source": [
    "np.ones((2,4))"
   ]
  },
  {
   "cell_type": "markdown",
   "id": "2d95f840",
   "metadata": {},
   "source": [
    "Arrays can be combined in different ways, e.g. np.column_stack combines them as columns (next to each other), and np.row_stack combines these as rows (underneath each other). For instance, we can combine a column of ones and two columns of zeros as follows:"
   ]
  },
  {
   "cell_type": "code",
   "execution_count": 12,
   "id": "faa39d79",
   "metadata": {},
   "outputs": [
    {
     "data": {
      "text/plain": [
       "array([[1., 0., 0.],\n",
       "       [1., 0., 0.],\n",
       "       [1., 0., 0.],\n",
       "       [1., 0., 0.],\n",
       "       [1., 0., 0.]])"
      ]
     },
     "execution_count": 12,
     "metadata": {},
     "output_type": "execute_result"
    }
   ],
   "source": [
    "oneCol = np.ones((5,))  # a single vector of ones\n",
    "zeroCols = np.zeros((5,2))  # two columns of zeros\n",
    "np.column_stack((oneCol, zeroCols))  # 5x3 columns"
   ]
  },
  {
   "cell_type": "markdown",
   "id": "b011df18",
   "metadata": {},
   "source": [
    "Note that column_stack expects all arrays to be passed as a single tuple (or list)."
   ]
  },
  {
   "cell_type": "markdown",
   "id": "a89afe2e",
   "metadata": {},
   "source": [
    "## Vectorized Functions (Universal Functions)"
   ]
  },
  {
   "cell_type": "markdown",
   "id": "d604f148",
   "metadata": {},
   "source": [
    "It is possible to use loops to do computation with numpy objects exactly in the same way when working with lists. However, one should use vectorized operations instead whenever possible. Vectorized operations are easier to code, easier to read, and result in faster code.\n",
    "\n",
    "Numpy offers a plethora of vectorized functions and operators, called universal functions. Many of these work as expected. For instance, mathematical operations. We create a matrix, and then add “100” to it, and then rise “2” to the power of the values:"
   ]
  },
  {
   "cell_type": "code",
   "execution_count": 13,
   "id": "58368f2b",
   "metadata": {},
   "outputs": [
    {
     "name": "stdout",
     "output_type": "stream",
     "text": [
      "[[ 0  1  2  3]\n",
      " [ 4  5  6  7]\n",
      " [ 8  9 10 11]]\n"
     ]
    }
   ],
   "source": [
    "a = np.arange(12).reshape((3,4))\n",
    "print(a)"
   ]
  },
  {
   "cell_type": "code",
   "execution_count": 14,
   "id": "272a64a9",
   "metadata": {},
   "outputs": [
    {
     "name": "stdout",
     "output_type": "stream",
     "text": [
      "[[100 101 102 103]\n",
      " [104 105 106 107]\n",
      " [108 109 110 111]] \n",
      "\n"
     ]
    }
   ],
   "source": [
    "print(100 + a, \"\\n\")"
   ]
  },
  {
   "cell_type": "code",
   "execution_count": 15,
   "id": "06ba5458",
   "metadata": {},
   "outputs": [
    {
     "name": "stdout",
     "output_type": "stream",
     "text": [
      "[[   1    2    4    8]\n",
      " [  16   32   64  128]\n",
      " [ 256  512 1024 2048]] \n",
      "\n"
     ]
    }
   ],
   "source": [
    "print(2**a, \"\\n\")  # remember: exponent with **, not with ^"
   ]
  },
  {
   "cell_type": "markdown",
   "id": "d4680ac4",
   "metadata": {},
   "source": [
    "Both of these mathematical operations, + and ** are performed elementwise for every single element of the matrix."
   ]
  },
  {
   "cell_type": "markdown",
   "id": "b3a6f1d0",
   "metadata": {},
   "source": [
    "create matrix of even numbers:"
   ]
  },
  {
   "cell_type": "code",
   "execution_count": 16,
   "id": "eac60447",
   "metadata": {},
   "outputs": [
    {
     "data": {
      "text/plain": [
       "array([[ 2,  4,  6,  8, 10],\n",
       "       [12, 14, 16, 18, 20],\n",
       "       [22, 24, 26, 28, 30],\n",
       "       [32, 34, 36, 38, 40]])"
      ]
     },
     "execution_count": 16,
     "metadata": {},
     "output_type": "execute_result"
    }
   ],
   "source": [
    "2 + 2*np.arange(20).reshape(4,5)"
   ]
  },
  {
   "cell_type": "markdown",
   "id": "3a10098f",
   "metadata": {},
   "source": [
    "Comparison operators are vectorized too:"
   ]
  },
  {
   "cell_type": "code",
   "execution_count": 17,
   "id": "d55dd9fc",
   "metadata": {},
   "outputs": [
    {
     "data": {
      "text/plain": [
       "array([[False, False, False, False],\n",
       "       [False, False, False,  True],\n",
       "       [ True,  True,  True,  True]])"
      ]
     },
     "execution_count": 17,
     "metadata": {},
     "output_type": "execute_result"
    }
   ],
   "source": [
    "a > 6"
   ]
  },
  {
   "cell_type": "code",
   "execution_count": 18,
   "id": "b57526c9",
   "metadata": {},
   "outputs": [
    {
     "data": {
      "text/plain": [
       "array([[False, False, False, False],\n",
       "       [False, False, False,  True],\n",
       "       [False, False, False, False]])"
      ]
     },
     "execution_count": 18,
     "metadata": {},
     "output_type": "execute_result"
    }
   ],
   "source": [
    "a == 7"
   ]
  },
  {
   "cell_type": "markdown",
   "id": "8de8533b",
   "metadata": {},
   "source": [
    "As comparison operators are vectorized, one might expect that the other logical operators, and, or and not, are also vectorized. But this is not the case. There are vectorized logical operators, but they differ from the base python version. These are more similar to corresponding operators in R or C, namely & for logical and, | for logical or, and ~ for logical not:"
   ]
  },
  {
   "cell_type": "code",
   "execution_count": 19,
   "id": "49411b00",
   "metadata": {},
   "outputs": [
    {
     "data": {
      "text/plain": [
       "array([[ True,  True,  True, False],\n",
       "       [False, False, False, False],\n",
       "       [False,  True,  True,  True]])"
      ]
     },
     "execution_count": 19,
     "metadata": {},
     "output_type": "execute_result"
    }
   ],
   "source": [
    "(a < 3) | (a > 8)  # logical or"
   ]
  },
  {
   "cell_type": "code",
   "execution_count": null,
   "id": "1b108126",
   "metadata": {},
   "outputs": [],
   "source": [
    "(a > 4) & (a < 7)  # logical and"
   ]
  },
  {
   "cell_type": "code",
   "execution_count": null,
   "id": "87194a2b",
   "metadata": {},
   "outputs": [],
   "source": [
    "~(a > 6)  # logical not"
   ]
  },
  {
   "cell_type": "markdown",
   "id": "f9a3da87",
   "metadata": {},
   "source": [
    "There is no vectorized multi-way comparison like 1 < x < 2."
   ]
  },
  {
   "cell_type": "markdown",
   "id": "5c70b50f",
   "metadata": {},
   "source": [
    "## Array Indexing and Slicing"
   ]
  },
  {
   "cell_type": "markdown",
   "id": "2ba1e1e1",
   "metadata": {},
   "source": [
    "Indexing refer to extracting elements based on their position or certain criteria. This is one of the fundamental operations with arrays. There are two ways to extract elements: based on position, and based on logical criteria. Unfortunately, this also makes indexing somewhat confusing, and it needs some time to become familiar with."
   ]
  },
  {
   "cell_type": "markdown",
   "id": "9d5dca96",
   "metadata": {},
   "source": [
    "### Extracting elements based on position"
   ]
  },
  {
   "cell_type": "markdown",
   "id": "284ecc53",
   "metadata": {},
   "source": [
    "Array indexing is very similar to list indexing. As matrices have two dimensions, we need two indices."
   ]
  },
  {
   "cell_type": "code",
   "execution_count": null,
   "id": "ffc6724a",
   "metadata": {},
   "outputs": [],
   "source": [
    "a = np.arange(12)\n",
    "a"
   ]
  },
  {
   "cell_type": "code",
   "execution_count": null,
   "id": "1d1f02f6",
   "metadata": {},
   "outputs": [],
   "source": [
    "print(a[::2])  # every second element"
   ]
  },
  {
   "cell_type": "markdown",
   "id": "107dc774",
   "metadata": {},
   "source": [
    "However, unlike lists, one can do vectorized assignments in numpy:"
   ]
  },
  {
   "cell_type": "code",
   "execution_count": null,
   "id": "7f105f35",
   "metadata": {},
   "outputs": [],
   "source": [
    "a[5:11] = -1  # assign multiple elements\n",
    "a"
   ]
  },
  {
   "cell_type": "markdown",
   "id": "dee80b78",
   "metadata": {},
   "source": [
    "One can also extract multiple elements from a vector:"
   ]
  },
  {
   "cell_type": "code",
   "execution_count": null,
   "id": "b2d6d0fb",
   "metadata": {},
   "outputs": [],
   "source": [
    "a[[4,5,7]]  # extract 3 elements in one go"
   ]
  },
  {
   "cell_type": "markdown",
   "id": "60c263ed",
   "metadata": {},
   "source": [
    "When working with matrices (2-D arrays), we need two indices, separated by comma. Comma separates two slices"
   ]
  },
  {
   "cell_type": "code",
   "execution_count": null,
   "id": "55cbe812",
   "metadata": {},
   "outputs": [],
   "source": [
    "c = np.arange(12).reshape((3,4))\n",
    "c"
   ]
  },
  {
   "cell_type": "code",
   "execution_count": null,
   "id": "b6c9f31b",
   "metadata": {},
   "outputs": [],
   "source": [
    "c[1,2]  # 2nd row, 3rd column"
   ]
  },
  {
   "cell_type": "code",
   "execution_count": null,
   "id": "63969067",
   "metadata": {},
   "outputs": [],
   "source": [
    "c[1] # 2nd row"
   ]
  },
  {
   "cell_type": "markdown",
   "id": "886495a3",
   "metadata": {},
   "source": [
    "Comma can separate not just two indices but two slices, so we can write"
   ]
  },
  {
   "cell_type": "code",
   "execution_count": null,
   "id": "07cf2deb",
   "metadata": {},
   "outputs": [],
   "source": [
    "c[:,2]  # all rows, 3rd column"
   ]
  },
  {
   "cell_type": "code",
   "execution_count": null,
   "id": "7cfc22b3",
   "metadata": {},
   "outputs": [],
   "source": [
    "c[:2]  # 1st, 2nd row"
   ]
  },
  {
   "cell_type": "code",
   "execution_count": null,
   "id": "f7c5c0b1",
   "metadata": {},
   "outputs": [],
   "source": [
    "c[:2, :3]  # 1s, 2nd row, first three columns"
   ]
  },
  {
   "cell_type": "markdown",
   "id": "67def11e",
   "metadata": {},
   "source": [
    "Create matrix and access rows and columns\n",
    "\n",
    "create a 4x5 array of even numbers: 10, 12, 14, …\n",
    "extract third column\n",
    "set the fourth row to 1,2,3,4,5"
   ]
  },
  {
   "cell_type": "code",
   "execution_count": null,
   "id": "0d49d9ff",
   "metadata": {},
   "outputs": [],
   "source": [
    "a=10+(2*np.arange(20).reshape((4,5)))  #create a 4x5 array of even numbers: 10, 12, 14\n",
    "a"
   ]
  },
  {
   "cell_type": "code",
   "execution_count": null,
   "id": "49af00a5",
   "metadata": {},
   "outputs": [],
   "source": [
    "a[:,2]    #extract third column"
   ]
  },
  {
   "cell_type": "code",
   "execution_count": null,
   "id": "b1ce1c1e",
   "metadata": {},
   "outputs": [],
   "source": [
    "a[3]=[1,2,3,4,5]  #set the fourth row to 1,2,3,4,5"
   ]
  },
  {
   "cell_type": "code",
   "execution_count": null,
   "id": "6efff15b",
   "metadata": {},
   "outputs": [],
   "source": [
    "a"
   ]
  },
  {
   "cell_type": "markdown",
   "id": "e2386389",
   "metadata": {},
   "source": [
    "### Boolean indexing"
   ]
  },
  {
   "cell_type": "markdown",
   "id": "655c5263",
   "metadata": {},
   "source": [
    "An extremely widely used approach is to extract elements of an array based on a logical criteria. Fundamentally, it is just using a logical vector for indexing. The vector must be of the same lengts as the array in question, and the results contains only those elements the correspond to True in the indexing vector. Here is an example how we can do this manually:"
   ]
  },
  {
   "cell_type": "code",
   "execution_count": null,
   "id": "8945bfd3",
   "metadata": {},
   "outputs": [],
   "source": [
    "a = np.array([1,2,7,8])\n",
    "i = np.array([True, False, True, False])\n",
    "a[i]  # 1, 7"
   ]
  },
  {
   "cell_type": "markdown",
   "id": "3edeaccf",
   "metadata": {},
   "source": [
    "The previous example–manually creating a logical index vectors of trues and falses is hardly ever useful. Almost always we use logical operations instead. For instance, we can extract all elements of a that are greater than 5:"
   ]
  },
  {
   "cell_type": "code",
   "execution_count": null,
   "id": "725639a9",
   "metadata": {},
   "outputs": [],
   "source": [
    "i = a > 5\n",
    "i"
   ]
  },
  {
   "cell_type": "code",
   "execution_count": null,
   "id": "b7d51301",
   "metadata": {},
   "outputs": [],
   "source": [
    "a[i]"
   ]
  },
  {
   "cell_type": "markdown",
   "id": "8ae8d025",
   "metadata": {},
   "source": [
    "This is often written in a more compact manner by skipping explicit logical vector i:"
   ]
  },
  {
   "cell_type": "code",
   "execution_count": null,
   "id": "d8bb349d",
   "metadata": {},
   "outputs": [],
   "source": [
    "a[a > 5]"
   ]
  },
  {
   "cell_type": "markdown",
   "id": "673da8c0",
   "metadata": {},
   "source": [
    "New users of numpy (and other languages that support logical indexing) sometimes forget that the logical condition does not have to be related to the same array that we are attempting to extract. For instance, we can extract all results for a certain person:"
   ]
  },
  {
   "cell_type": "code",
   "execution_count": null,
   "id": "170b9df7",
   "metadata": {},
   "outputs": [],
   "source": [
    "names = np.array([\"Cyrus\", \"Darius\", \"Xerxes\", \"Artaxerxes\", \"Cyrus\", \"Darius\"])\n",
    "results = np.array([17, 14, 20, 18, 13, 15])\n",
    "results[names == \"Darius\"]"
   ]
  },
  {
   "cell_type": "markdown",
   "id": "82b55e69",
   "metadata": {},
   "source": [
    "Here index vector is based on the variable name only and is not directly related to results. However, we use it to extract values from the latter."
   ]
  },
  {
   "cell_type": "markdown",
   "id": "0abdb834",
   "metadata": {},
   "source": [
    "Finally, we also can extract rows (or columns) from a 2-D array in a fairly similar fashion:"
   ]
  },
  {
   "cell_type": "code",
   "execution_count": null,
   "id": "3204ea31",
   "metadata": {},
   "outputs": [],
   "source": [
    "names = np.array([\"Cyrus\", \"Darius\", \"Xerxes\"])\n",
    "results = np.array([[17, 14], [20, 18], [13, 15]])\n",
    "results"
   ]
  },
  {
   "cell_type": "code",
   "execution_count": null,
   "id": "253a9c56",
   "metadata": {},
   "outputs": [],
   "source": [
    "results[names == \"Darius\",:]"
   ]
  },
  {
   "cell_type": "markdown",
   "id": "477c6e63",
   "metadata": {},
   "source": [
    "Logical indexing can also be used on the left-hand-side of the expression, in order to replace elements. Below is an example where we replace all the negative elements of a with zero."
   ]
  },
  {
   "cell_type": "code",
   "execution_count": null,
   "id": "a5577528",
   "metadata": {},
   "outputs": [],
   "source": [
    "a = np.random.randn(2,3)\n",
    "a"
   ]
  },
  {
   "cell_type": "code",
   "execution_count": null,
   "id": "41b1c944",
   "metadata": {},
   "outputs": [],
   "source": [
    "a[a < 0] = 0\n",
    "a"
   ]
  },
  {
   "cell_type": "markdown",
   "id": "68194df4",
   "metadata": {},
   "source": [
    "When replacing elements in such fashion then we need to supply the replacement vector that is either length 1 (all elements are replaced by “0” in the example above), or alternatively we should supply a replacement vector of correct length. For instance, we can replace the positive numbers left in a with 1, 2, 3:"
   ]
  },
  {
   "cell_type": "code",
   "execution_count": null,
   "id": "334bb732",
   "metadata": {},
   "outputs": [],
   "source": [
    "a[a > 0] = np.array([1, 2, 3])\n",
    "a"
   ]
  },
  {
   "cell_type": "code",
   "execution_count": null,
   "id": "0eac6dba",
   "metadata": {},
   "outputs": [],
   "source": [
    "names = np.array([\"Roxana\", \"Statira\", \"Roxana\", \"Statira\", \"Roxana\"])\n",
    "score = np.array([126, 115, 130, 141, 132])"
   ]
  },
  {
   "cell_type": "code",
   "execution_count": null,
   "id": "983e1f2c",
   "metadata": {},
   "outputs": [],
   "source": [
    " score[score<130] #Extract all test scores that are smaller than 130"
   ]
  },
  {
   "cell_type": "code",
   "execution_count": null,
   "id": "401ae8d9",
   "metadata": {},
   "outputs": [],
   "source": [
    "score[names==\"Statira\"]          #Extract all test scores by Statira#"
   ]
  },
  {
   "cell_type": "code",
   "execution_count": null,
   "id": "2d31f9fe",
   "metadata": {},
   "outputs": [],
   "source": [
    "score[names==\"Roxana\"] + 10            #Add 10 points to Roxana’s scores. (You need to extract it first.)"
   ]
  },
  {
   "cell_type": "markdown",
   "id": "2e3ae0ec",
   "metadata": {},
   "source": [
    "## Random numbers"
   ]
  },
  {
   "cell_type": "markdown",
   "id": "a449487c",
   "metadata": {},
   "source": [
    "Numpy offer a large set of random number generators. These can be invoked as np.random.generator(params, size). For instance, np.random.choice(N) can be used to create random numbers from 0 to  \n",
    "N−1. size determines the shape of the resulting object."
   ]
  },
  {
   "cell_type": "markdown",
   "id": "305b23f4",
   "metadata": {},
   "source": [
    " The argument is size, not shape, although it determines the output shape!"
   ]
  },
  {
   "cell_type": "code",
   "execution_count": null,
   "id": "0a1af76f",
   "metadata": {},
   "outputs": [],
   "source": [
    "x = np.random.choice(6, size=5)\n",
    "x"
   ]
  },
  {
   "cell_type": "markdown",
   "id": "7ba754bb",
   "metadata": {},
   "source": [
    "But maybe we prefer not to label the results as 0..5 but 1..6. So we can just add one to the result. Here is an example that creates 2-D array of die rolls:"
   ]
  },
  {
   "cell_type": "code",
   "execution_count": null,
   "id": "b193c88d",
   "metadata": {},
   "outputs": [],
   "source": [
    "1 + np.random.choice(6, size=(2,4))"
   ]
  },
  {
   "cell_type": "markdown",
   "id": "2ec2d30d",
   "metadata": {},
   "source": [
    "Numpy offers a large set of various random values. Here we list a few more:"
   ]
  },
  {
   "cell_type": "markdown",
   "id": "b4d064b2",
   "metadata": {},
   "source": [
    "#### Random elements from list"
   ]
  },
  {
   "cell_type": "code",
   "execution_count": null,
   "id": "6ed3787a",
   "metadata": {},
   "outputs": [],
   "source": [
    "nucleotides = [\"A\", \"G\", \"C\", \"T\"]\n",
    "dna = np.random.choice(nucleotides, 20)\n",
    "\"\".join(dna)"
   ]
  },
  {
   "cell_type": "markdown",
   "id": "bb20f7dc",
   "metadata": {},
   "source": [
    "As the example demonstrates, random.choice picks random elements with replacement (use replace option to change this behavior)."
   ]
  },
  {
   "cell_type": "markdown",
   "id": "4da551bc",
   "metadata": {},
   "source": [
    "#### Random normals"
   ]
  },
  {
   "cell_type": "markdown",
   "id": "266573e0",
   "metadata": {},
   "source": [
    "random.normal(loc, scale, size) generates normally distributed random numbers. The distribution is centered at loc and its variance is scale:"
   ]
  },
  {
   "cell_type": "code",
   "execution_count": null,
   "id": "74f478c2",
   "metadata": {},
   "outputs": [],
   "source": [
    "np.random.normal(1000, 100, size=10)"
   ]
  },
  {
   "cell_type": "markdown",
   "id": "1aba721c",
   "metadata": {},
   "source": [
    "#### Binomial random numbers"
   ]
  },
  {
   "cell_type": "markdown",
   "id": "7fb894ca",
   "metadata": {},
   "source": [
    "random.binomial(n, p, size) creates random binomials where probability of success is p and sample size is n:\n"
   ]
  },
  {
   "cell_type": "code",
   "execution_count": null,
   "id": "37ca2e9a",
   "metadata": {},
   "outputs": [],
   "source": [
    "np.random.binomial(2, 0.5, size=(2,4))"
   ]
  },
  {
   "cell_type": "markdown",
   "id": "81400d23",
   "metadata": {},
   "source": [
    "We can describe a coin toss as Binomial(1, 0.5) where 1 refers to the fact that we toss a single coin, and 0.5 means it has probability 0.5 to come heads up. So such random variables are sequences of zeros and ones. But how can we get a sequence of -1 and 1 instead? Demonstrate it on computer!"
   ]
  },
  {
   "cell_type": "code",
   "execution_count": null,
   "id": "e5bb4a33",
   "metadata": {},
   "outputs": [],
   "source": [
    "2*np.random.binomial(1, 0.5, size=10) - 1"
   ]
  },
  {
   "cell_type": "markdown",
   "id": "caf4f68d",
   "metadata": {},
   "source": [
    "#### Uniform random numbers"
   ]
  },
  {
   "cell_type": "markdown",
   "id": "f599733a",
   "metadata": {},
   "source": [
    "random.uniform(low, high, size) creates uniformly distributed random numbers in the interval [low, high]:\n",
    "\n"
   ]
  },
  {
   "cell_type": "code",
   "execution_count": null,
   "id": "a58362ca",
   "metadata": {},
   "outputs": [],
   "source": [
    "np.random.uniform(-1, 1, size=(3,4))  # random numbers in [-1, 1]"
   ]
  },
  {
   "cell_type": "markdown",
   "id": "e5dd592c",
   "metadata": {},
   "source": [
    "#### Repeating the exact same random sequence"
   ]
  },
  {
   "cell_type": "markdown",
   "id": "a9124e3c",
   "metadata": {},
   "source": [
    "The random numbers are often called pseudorandom as they are not truly random–they are computed based on a well-defined algorithm, so when feeding the same initial values to the algorithm, one always gets the same random numbers. However, normally the initial values are taken from certain hart-to-control parameters outside of the program control, such as time in microseconds and hard disk serial number, so in practice it is impossible to replicate the same sequence."
   ]
  },
  {
   "cell_type": "markdown",
   "id": "70f9999c",
   "metadata": {},
   "source": [
    "However, if you need to replicate your results exactly, you have to set the initial values explicitly using random.seed(value). This re-initializes RNG-s to the given initial state:"
   ]
  },
  {
   "cell_type": "code",
   "execution_count": null,
   "id": "415f099e",
   "metadata": {},
   "outputs": [],
   "source": [
    "np.random.seed(1)\n",
    "np.random.uniform(size=5)  # 1st batch of numbers"
   ]
  },
  {
   "cell_type": "code",
   "execution_count": null,
   "id": "8ae8cbdc",
   "metadata": {},
   "outputs": [],
   "source": [
    "np.random.uniform(size=5)  # 2nd batch is different"
   ]
  },
  {
   "cell_type": "code",
   "execution_count": null,
   "id": "dcf0cd3e",
   "metadata": {},
   "outputs": [],
   "source": [
    "np.random.seed(1)\n",
    "np.random.uniform(size=5)  # repeat the 1st batch"
   ]
  },
  {
   "cell_type": "markdown",
   "id": "c5aa1320",
   "metadata": {},
   "source": [
    "#### Statistical functions"
   ]
  },
  {
   "cell_type": "markdown",
   "id": "49533570",
   "metadata": {},
   "source": [
    "Numpy offers a set of basic statistical functions, including sum, mean, and standard deviations std. These can be applied to the array as a whole, or separately to rows or columns. In the latter case one has to specify the argument axis, where the value 0 means to apply the operation row-wise (and preserve columns) and axis=1 means to apply the operation column-wise (and preserve rows). Here is an example:\n"
   ]
  },
  {
   "cell_type": "code",
   "execution_count": null,
   "id": "dec72e4a",
   "metadata": {},
   "outputs": [],
   "source": [
    "a = np.arange(12).reshape((3,4))\n",
    "a  # 3 rows, 4 columns"
   ]
  },
  {
   "cell_type": "code",
   "execution_count": null,
   "id": "e3ba6129",
   "metadata": {},
   "outputs": [],
   "source": [
    "a.sum()  # total sum"
   ]
  },
  {
   "cell_type": "code",
   "execution_count": null,
   "id": "48ebc593",
   "metadata": {},
   "outputs": [],
   "source": [
    "a.sum(axis=0)  # add rows, preserve columns"
   ]
  },
  {
   "cell_type": "code",
   "execution_count": null,
   "id": "69029289",
   "metadata": {},
   "outputs": [],
   "source": [
    "a.sum(axis=1)  # add columns, preserve rows"
   ]
  },
  {
   "cell_type": "markdown",
   "id": "2380d9e9",
   "metadata": {},
   "source": [
    "The functions come in two forms: as a method x.sum(), and as a separate function np.sum(x). These two ways are pretty much equivalent.\n",
    "\n",
    "By default, a missing value of an array causes the function to return missing:"
   ]
  },
  {
   "cell_type": "code",
   "execution_count": null,
   "id": "631ed12f",
   "metadata": {},
   "outputs": [],
   "source": [
    "a = a.astype(float)  # as np.nan is float, need a float array\n",
    "a[1,2] = np.nan\n",
    "a"
   ]
  },
  {
   "cell_type": "code",
   "execution_count": null,
   "id": "18c37f5f",
   "metadata": {},
   "outputs": [],
   "source": [
    "np.sum(a)"
   ]
  },
  {
   "cell_type": "markdown",
   "id": "2b631315",
   "metadata": {},
   "source": [
    " This differs from the corresponding functionality in pandas where missings are ignored by default!"
   ]
  },
  {
   "cell_type": "markdown",
   "id": "857b1fc5",
   "metadata": {},
   "source": [
    "The other statistical functions include\n",
    "\n",
    "mean for average\n",
    "median for median\n",
    "var for variance\n",
    "std for standard deviation\n",
    "np.percentile and np.quantile for quantiles"
   ]
  },
  {
   "cell_type": "markdown",
   "id": "1b711fff",
   "metadata": {},
   "source": [
    "-----------------------------------"
   ]
  },
  {
   "cell_type": "markdown",
   "id": "a55cea71",
   "metadata": {},
   "source": [
    "# Pandas"
   ]
  },
  {
   "cell_type": "code",
   "execution_count": null,
   "id": "f1cb7270",
   "metadata": {},
   "outputs": [],
   "source": [
    "Pandas is the standard python library to work with dataframes.  It is typically imported as pd:"
   ]
  },
  {
   "cell_type": "code",
   "execution_count": 22,
   "id": "44b670ec",
   "metadata": {},
   "outputs": [],
   "source": [
    "import pandas as pd"
   ]
  },
  {
   "cell_type": "markdown",
   "id": "ec58c596",
   "metadata": {},
   "source": [
    "Pandas contains two central data types: Series and DataFrame. Series is often used as a second-class citizen, just as a single variable (column) in data frame. But it can also be used as a vectorized dict that links keys (indices) to values. DataFrame is broadly similar to other dataframes as implemented in R or spark. When you extract its individual columns and rows you normally get those in the form of Series. So it is extremely useful to know the basics of Series when working with data frames. Both DataFrame and Series include index, a glorified row name, which is very useful for extracting information based on names, or for merging different variables into a data frame"
   ]
  },
  {
   "cell_type": "markdown",
   "id": "5ecf9f23",
   "metadata": {},
   "source": [
    "### Series"
   ]
  },
  {
   "cell_type": "markdown",
   "id": "bfd7ecd8",
   "metadata": {},
   "source": [
    "Series is a one-dimensional positional column (or row) of values. It is in some sense similar to list, but from another point of view it is more like a dict, as it contains index, and you can look up values based on index as a key. So it allows not only positional access but also index-based (key-based) access. In terms of internal structure, it is implemented with vectorized operations in mind, so it supports vectorized arithmetic, and vectorized logical, string, and other operations. Unlike dicts, it also supports multi-element extraction."
   ]
  },
  {
   "cell_type": "markdown",
   "id": "ea48758f",
   "metadata": {},
   "source": [
    "Let’s create a simple series:"
   ]
  },
  {
   "cell_type": "code",
   "execution_count": 23,
   "id": "e68ac674",
   "metadata": {},
   "outputs": [
    {
     "data": {
      "text/plain": [
       "0    1\n",
       "1    2\n",
       "2    5\n",
       "3    6\n",
       "dtype: int64"
      ]
     },
     "execution_count": 23,
     "metadata": {},
     "output_type": "execute_result"
    }
   ],
   "source": [
    "s = pd.Series([1,2,5,6])\n",
    "s"
   ]
  },
  {
   "cell_type": "markdown",
   "id": "102dca0a",
   "metadata": {},
   "source": [
    "Series is printed in two columns. The first one is the index, the second one is the value. In this example, index is essentially just the row number and it is not very useful. This is because we did not provide any specific index and hence pandas picked just the row number. Underneath the two columns, you can also see the data type, in this case it is 64-bit integer, the default data type for integers in python."
   ]
  },
  {
   "cell_type": "markdown",
   "id": "a6d7cdcb",
   "metadata": {},
   "source": [
    "Now let’s make another example with a more informative index:"
   ]
  },
  {
   "cell_type": "code",
   "execution_count": 24,
   "id": "33e00b9e",
   "metadata": {},
   "outputs": [
    {
     "data": {
      "text/plain": [
       "ca    38\n",
       "tx    26\n",
       "ny    19\n",
       "fl    19\n",
       "dtype: int64"
      ]
     },
     "execution_count": 24,
     "metadata": {},
     "output_type": "execute_result"
    }
   ],
   "source": [
    "pop = pd.Series( [ 38, 26, 19, 19],\n",
    "                 index = ['ca', 'tx', 'ny', 'fl'])\n",
    "# population, in millions\n",
    "pop"
   ]
  },
  {
   "cell_type": "markdown",
   "id": "84e107c3",
   "metadata": {},
   "source": [
    "Now the index is helpful: we are looking at state populations, and index tells us which state is in which row. Another advantage of possessing index is that even when we filter and manipulate the series, it’s index will still retain the original row label. So we know that index “fl” will always correspond to Florida. But if we have removed a few cases, or re-ordered the series, then Florida may not be on the fourth position any more."
   ]
  },
  {
   "cell_type": "markdown",
   "id": "949492f8",
   "metadata": {},
   "source": [
    "Create a series of 4 capital cities where the index is the name of corresponding country."
   ]
  },
  {
   "cell_type": "code",
   "execution_count": 25,
   "id": "56bcd697",
   "metadata": {},
   "outputs": [
    {
     "data": {
      "text/plain": [
       "Congo                Brazzaville\n",
       "Gabon                 Libreville\n",
       "Equatorial Guinea         Malabo\n",
       "Cameroon                 Yaoundé\n",
       "dtype: object"
      ]
     },
     "execution_count": 25,
     "metadata": {},
     "output_type": "execute_result"
    }
   ],
   "source": [
    "cities = pd.Series([\"Brazzaville\", \"Libreville\", \"Malabo\", \"Yaoundé\"],\n",
    "                   index=[\"Congo\", \"Gabon\", \"Equatorial Guinea\", \"Cameroon\"])\n",
    "cities"
   ]
  },
  {
   "cell_type": "markdown",
   "id": "26091a00",
   "metadata": {},
   "source": [
    "We can extract values and index using the corresponding attributes:"
   ]
  },
  {
   "cell_type": "code",
   "execution_count": 26,
   "id": "9a9e1b1e",
   "metadata": {},
   "outputs": [
    {
     "data": {
      "text/plain": [
       "array([38, 26, 19, 19], dtype=int64)"
      ]
     },
     "execution_count": 26,
     "metadata": {},
     "output_type": "execute_result"
    }
   ],
   "source": [
    "pop.values"
   ]
  },
  {
   "cell_type": "code",
   "execution_count": 27,
   "id": "88d7d198",
   "metadata": {},
   "outputs": [
    {
     "data": {
      "text/plain": [
       "Index(['ca', 'tx', 'ny', 'fl'], dtype='object')"
      ]
     },
     "execution_count": 27,
     "metadata": {},
     "output_type": "execute_result"
    }
   ],
   "source": [
    "pop.index"
   ]
  },
  {
   "cell_type": "code",
   "execution_count": 28,
   "id": "439126c8",
   "metadata": {},
   "outputs": [
    {
     "data": {
      "text/plain": [
       "array(['Brazzaville', 'Libreville', 'Malabo', 'Yaoundé'], dtype=object)"
      ]
     },
     "execution_count": 28,
     "metadata": {},
     "output_type": "execute_result"
    }
   ],
   "source": [
    "cities.values"
   ]
  },
  {
   "cell_type": "code",
   "execution_count": 29,
   "id": "ea1fd2ce",
   "metadata": {},
   "outputs": [
    {
     "data": {
      "text/plain": [
       "Index(['Congo', 'Gabon', 'Equatorial Guinea', 'Cameroon'], dtype='object')"
      ]
     },
     "execution_count": 29,
     "metadata": {},
     "output_type": "execute_result"
    }
   ],
   "source": [
    "cities.index"
   ]
  },
  {
   "cell_type": "markdown",
   "id": "f639e29c",
   "metadata": {},
   "source": [
    "Note that values are returned as np array, and index is a special index object. If desired, this can be converted to a list:"
   ]
  },
  {
   "cell_type": "code",
   "execution_count": 30,
   "id": "642c30d5",
   "metadata": {},
   "outputs": [
    {
     "data": {
      "text/plain": [
       "['ca', 'tx', 'ny', 'fl']"
      ]
     },
     "execution_count": 30,
     "metadata": {},
     "output_type": "execute_result"
    }
   ],
   "source": [
    "list(pop.index)"
   ]
  },
  {
   "cell_type": "markdown",
   "id": "1569657e",
   "metadata": {},
   "source": [
    "Series also supports ordinary mathematics, e.g. we can do operations like:"
   ]
  },
  {
   "cell_type": "code",
   "execution_count": 31,
   "id": "0532cc3e",
   "metadata": {},
   "outputs": [
    {
     "data": {
      "text/plain": [
       "ca     True\n",
       "tx     True\n",
       "ny    False\n",
       "fl    False\n",
       "dtype: bool"
      ]
     },
     "execution_count": 31,
     "metadata": {},
     "output_type": "execute_result"
    }
   ],
   "source": [
    "pop > 20"
   ]
  },
  {
   "cell_type": "markdown",
   "id": "82f83796",
   "metadata": {},
   "source": [
    "the result will be another series, here of logical values, as indicated by the “bool” data type."
   ]
  },
  {
   "cell_type": "markdown",
   "id": "51e25f9f",
   "metadata": {},
   "source": [
    "### DataFrame"
   ]
  },
  {
   "cell_type": "markdown",
   "id": "aed7ac56",
   "metadata": {},
   "source": [
    "DataFrame is the central data structure for holding 2-dimensional rectangular data. It is in many ways similar to R dataframes. However, it also shares a number of features with Series, in particular the index, so you can imagine a data frame is just a number of series stacked next to each other. Also, extracting single rows or columns from DataFrames typically results in a series."
   ]
  },
  {
   "cell_type": "markdown",
   "id": "5a8484c8",
   "metadata": {},
   "source": [
    "#### Creating data frames"
   ]
  },
  {
   "cell_type": "code",
   "execution_count": 36,
   "id": "217dc688",
   "metadata": {},
   "outputs": [
    {
     "name": "stdout",
     "output_type": "stream",
     "text": [
      "population:\n",
      "    ca  tx  md\n",
      "0  35  23   5\n",
      "1  37  24   5\n",
      "2  38  26   6 \n",
      "\n"
     ]
    }
   ],
   "source": [
    "df = {'ca': [35, 37, 38], 'tx': [23, 24, 26], 'md': [5,5,6]}\n",
    "pop = pd.DataFrame(df)\n",
    "print('population:\\n', pop, '\\n')"
   ]
  },
  {
   "cell_type": "markdown",
   "id": "eb36420e",
   "metadata": {},
   "source": [
    "The data frame is printed as four columns. Exactly as in case of series, the first column is index. In the example above we did not specify the index and hence pandas picked just row numbers. But we can provide an explicit index, for instance the year of observation:"
   ]
  },
  {
   "cell_type": "code",
   "execution_count": 35,
   "id": "ac62ee96",
   "metadata": {},
   "outputs": [
    {
     "name": "stdout",
     "output_type": "stream",
     "text": [
      "population:\n",
      "       ca  tx  md\n",
      "2010  35  23   5\n",
      "2012  37  24   5\n",
      "2014  38  26   6 \n",
      "\n"
     ]
    }
   ],
   "source": [
    "pop = pd.DataFrame(df, index = [2010,2012,2014])\n",
    "print('population:\\n', pop, '\\n')"
   ]
  },
  {
   "cell_type": "markdown",
   "id": "9f8d45f4",
   "metadata": {},
   "source": [
    "In this case the index is rather useful."
   ]
  },
  {
   "cell_type": "markdown",
   "id": "f2187a65",
   "metadata": {},
   "source": [
    "Create a dataframe of (at least 4) countries, with 2 variables: population and capital. Country name should be the index.\n",
    "\n",
    "Hint: feel free to invent populations!"
   ]
  },
  {
   "cell_type": "markdown",
   "id": "88dd4511",
   "metadata": {},
   "source": [
    "#### Read data from file"
   ]
  },
  {
   "cell_type": "markdown",
   "id": "31c72cfd",
   "metadata": {},
   "source": [
    "To create data frames manually is useful for testing and debugging, in real applications we typically read data from disk. This can be done with pd.read_csv that takes the file name as the first argument, and also supports many other options. In the example below, we read data about G.W.Bush approval rate in fall 2001. pd.read_csv assumes files are comma-separated by default, but as this example file is tab-separated we have to declare it using sep=\"\\t\" as an extra argument. We also read the first 10 rows only for demonstration:"
   ]
  },
  {
   "cell_type": "code",
   "execution_count": 43,
   "id": "5a58d988",
   "metadata": {},
   "outputs": [
    {
     "data": {
      "text/html": [
       "<div>\n",
       "<style scoped>\n",
       "    .dataframe tbody tr th:only-of-type {\n",
       "        vertical-align: middle;\n",
       "    }\n",
       "\n",
       "    .dataframe tbody tr th {\n",
       "        vertical-align: top;\n",
       "    }\n",
       "\n",
       "    .dataframe thead th {\n",
       "        text-align: right;\n",
       "    }\n",
       "</style>\n",
       "<table border=\"1\" class=\"dataframe\">\n",
       "  <thead>\n",
       "    <tr style=\"text-align: right;\">\n",
       "      <th></th>\n",
       "      <th>date</th>\n",
       "      <th>approve</th>\n",
       "      <th>disapprove</th>\n",
       "      <th>dontknow</th>\n",
       "    </tr>\n",
       "  </thead>\n",
       "  <tbody>\n",
       "    <tr>\n",
       "      <th>0</th>\n",
       "      <td>2001 Dec 14-16</td>\n",
       "      <td>86</td>\n",
       "      <td>11</td>\n",
       "      <td>3</td>\n",
       "    </tr>\n",
       "    <tr>\n",
       "      <th>1</th>\n",
       "      <td>2001 Dec 6-9</td>\n",
       "      <td>86</td>\n",
       "      <td>10</td>\n",
       "      <td>4</td>\n",
       "    </tr>\n",
       "    <tr>\n",
       "      <th>2</th>\n",
       "      <td>2001 Nov 26-27</td>\n",
       "      <td>87</td>\n",
       "      <td>8</td>\n",
       "      <td>5</td>\n",
       "    </tr>\n",
       "    <tr>\n",
       "      <th>3</th>\n",
       "      <td>2001 Nov 8-11</td>\n",
       "      <td>87</td>\n",
       "      <td>9</td>\n",
       "      <td>4</td>\n",
       "    </tr>\n",
       "    <tr>\n",
       "      <th>4</th>\n",
       "      <td>2001 Nov 2-4</td>\n",
       "      <td>87</td>\n",
       "      <td>9</td>\n",
       "      <td>4</td>\n",
       "    </tr>\n",
       "    <tr>\n",
       "      <th>5</th>\n",
       "      <td>2001 Oct 19-21</td>\n",
       "      <td>88</td>\n",
       "      <td>9</td>\n",
       "      <td>3</td>\n",
       "    </tr>\n",
       "    <tr>\n",
       "      <th>6</th>\n",
       "      <td>2001 Oct 11-14</td>\n",
       "      <td>89</td>\n",
       "      <td>8</td>\n",
       "      <td>3</td>\n",
       "    </tr>\n",
       "    <tr>\n",
       "      <th>7</th>\n",
       "      <td>2001 Oct 5-6</td>\n",
       "      <td>87</td>\n",
       "      <td>10</td>\n",
       "      <td>3</td>\n",
       "    </tr>\n",
       "    <tr>\n",
       "      <th>8</th>\n",
       "      <td>2001 Sep 21-22</td>\n",
       "      <td>90</td>\n",
       "      <td>6</td>\n",
       "      <td>4</td>\n",
       "    </tr>\n",
       "    <tr>\n",
       "      <th>9</th>\n",
       "      <td>2001 Sep 14-15</td>\n",
       "      <td>86</td>\n",
       "      <td>10</td>\n",
       "      <td>4</td>\n",
       "    </tr>\n",
       "  </tbody>\n",
       "</table>\n",
       "</div>"
      ],
      "text/plain": [
       "             date  approve  disapprove  dontknow\n",
       "0  2001 Dec 14-16       86          11         3\n",
       "1    2001 Dec 6-9       86          10         4\n",
       "2  2001 Nov 26-27       87           8         5\n",
       "3   2001 Nov 8-11       87           9         4\n",
       "4    2001 Nov 2-4       87           9         4\n",
       "5  2001 Oct 19-21       88           9         3\n",
       "6  2001 Oct 11-14       89           8         3\n",
       "7    2001 Oct 5-6       87          10         3\n",
       "8  2001 Sep 21-22       90           6         4\n",
       "9  2001 Sep 14-15       86          10         4"
      ]
     },
     "execution_count": 43,
     "metadata": {},
     "output_type": "execute_result"
    }
   ],
   "source": [
    "approval = pd.read_csv('https://bitbucket.org/otoomet/lecturenotes/raw/master/data/gwbush-approval.csv', \\\n",
    " sep='\\t', nrows=10) \n",
    "approval"
   ]
  },
  {
   "cell_type": "code",
   "execution_count": 45,
   "id": "b7571615",
   "metadata": {},
   "outputs": [
    {
     "data": {
      "text/plain": [
       "(31, 1)"
      ]
     },
     "execution_count": 45,
     "metadata": {},
     "output_type": "execute_result"
    }
   ],
   "source": [
    "a = pd.read_csv('https://bitbucket.org/otoomet/lecturenotes/raw/master/data/gwbush-approval.csv')  # wrong separator\n",
    "a.shape"
   ]
  },
  {
   "cell_type": "code",
   "execution_count": 46,
   "id": "a297c378",
   "metadata": {},
   "outputs": [
    {
     "data": {
      "text/html": [
       "<div>\n",
       "<style scoped>\n",
       "    .dataframe tbody tr th:only-of-type {\n",
       "        vertical-align: middle;\n",
       "    }\n",
       "\n",
       "    .dataframe tbody tr th {\n",
       "        vertical-align: top;\n",
       "    }\n",
       "\n",
       "    .dataframe thead th {\n",
       "        text-align: right;\n",
       "    }\n",
       "</style>\n",
       "<table border=\"1\" class=\"dataframe\">\n",
       "  <thead>\n",
       "    <tr style=\"text-align: right;\">\n",
       "      <th></th>\n",
       "      <th>date\\tapprove\\tdisapprove\\tdontknow</th>\n",
       "    </tr>\n",
       "  </thead>\n",
       "  <tbody>\n",
       "    <tr>\n",
       "      <th>0</th>\n",
       "      <td>2001 Dec 14-16\\t86\\t11\\t3</td>\n",
       "    </tr>\n",
       "    <tr>\n",
       "      <th>1</th>\n",
       "      <td>2001 Dec 6-9\\t86\\t10\\t4</td>\n",
       "    </tr>\n",
       "  </tbody>\n",
       "</table>\n",
       "</div>"
      ],
      "text/plain": [
       "  date\\tapprove\\tdisapprove\\tdontknow\n",
       "0           2001 Dec 14-16\\t86\\t11\\t3\n",
       "1             2001 Dec 6-9\\t86\\t10\\t4"
      ]
     },
     "execution_count": 46,
     "metadata": {},
     "output_type": "execute_result"
    }
   ],
   "source": [
    "a.head(2)"
   ]
  },
  {
   "cell_type": "markdown",
   "id": "a5d223b3",
   "metadata": {},
   "source": [
    "Two problems are immediately visible: first, the file contains a single column only (because it does not consider tab symbols as separators), and the two lines we printed look weird. If you ask for variable names, you can also see that all variable names are combined together into a single weird name:"
   ]
  },
  {
   "cell_type": "code",
   "execution_count": null,
   "id": "4e88ca91",
   "metadata": {},
   "outputs": [],
   "source": [
    "a.columns"
   ]
  },
  {
   "cell_type": "markdown",
   "id": "9fab8810",
   "metadata": {},
   "source": [
    "The tab markers \\t in printout give strong hints that the correct separator is tab.\n",
    "\n",
    "It may initially be quite confusing to understand how to specify the file name. If you load data in a jupyter notebook, then the working directory is normally the same directory where the notebook is located3. Notebook also let’s you to complete file names with TAB key. But in any case, the working directory can be found with os.getcwd (get current working directory):"
   ]
  },
  {
   "cell_type": "code",
   "execution_count": 38,
   "id": "fc421522",
   "metadata": {},
   "outputs": [
    {
     "data": {
      "text/plain": [
       "'C:\\\\Users\\\\DELL\\\\Documents\\\\MSC_Computer_Science\\\\Machine-Learning-Zoomcamp\\\\Introduction to Machine Learning\\\\1.7 Introduction to NumPy'"
      ]
     },
     "execution_count": 38,
     "metadata": {},
     "output_type": "execute_result"
    }
   ],
   "source": [
    "import os\n",
    "os.getcwd()"
   ]
  },
  {
   "cell_type": "markdown",
   "id": "efc73e70",
   "metadata": {},
   "source": [
    "This helps to specify the relative path if your data file is not located in the same place as your code. You can also find which files does python find in a given folder, e.g. in ../data/:"
   ]
  },
  {
   "cell_type": "code",
   "execution_count": 40,
   "id": "ea8f7f7a",
   "metadata": {},
   "outputs": [
    {
     "ename": "FileNotFoundError",
     "evalue": "[WinError 3] The system cannot find the path specified: \"../'1.7 Introduction to NumPy'/\"",
     "output_type": "error",
     "traceback": [
      "\u001b[1;31m---------------------------------------------------------------------------\u001b[0m",
      "\u001b[1;31mFileNotFoundError\u001b[0m                         Traceback (most recent call last)",
      "Cell \u001b[1;32mIn[40], line 1\u001b[0m\n\u001b[1;32m----> 1\u001b[0m files \u001b[38;5;241m=\u001b[39m os\u001b[38;5;241m.\u001b[39mlistdir(\u001b[38;5;124m\"\u001b[39m\u001b[38;5;124m../\u001b[39m\u001b[38;5;124m'\u001b[39m\u001b[38;5;124m1.7 Introduction to NumPy\u001b[39m\u001b[38;5;124m'\u001b[39m\u001b[38;5;124m/\u001b[39m\u001b[38;5;124m\"\u001b[39m)\n\u001b[0;32m      2\u001b[0m files[:\u001b[38;5;241m5\u001b[39m]\n",
      "\u001b[1;31mFileNotFoundError\u001b[0m: [WinError 3] The system cannot find the path specified: \"../'1.7 Introduction to NumPy'/\""
     ]
    }
   ],
   "source": [
    "files = os.listdir(\"../'1.7 Introduction to NumPy'/\")\n",
    "files[:5]"
   ]
  },
  {
   "cell_type": "markdown",
   "id": "fda2ab74",
   "metadata": {},
   "source": [
    "As another complication, notebooks are often run on a separate server or in a docker container. These may have no access to files in your computer (as the server), or only have a limited access (like docker container). In such a case, you should upload the file to notebook, even if it is running on your computer!"
   ]
  },
  {
   "cell_type": "markdown",
   "id": "df05fb87",
   "metadata": {},
   "source": [
    "# Indexing data frames and series"
   ]
  },
  {
   "cell_type": "markdown",
   "id": "ae065b83",
   "metadata": {},
   "source": [
    "Indexing refers to selecting data from data frames and series based on variable names, logical conditions, and position. It is a complex task with many different methods, and unfortunately also with many caveats. Below, the topic is split into several subsections:\n",
    "\n",
    "Select variables explains how to select desired variables from a data frame\n",
    "Filter observations with logical operations describes how to filter rows\n",
    "Positional indexing of Series introduces positional indexing, indexing based on row number, and how to do it with series\n",
    "Positional indexing of data frames explains positional indexing, indexing based on both row and column numbers, for data frames\n",
    "Modifying data frames: there are slight differences when modifying data instead of extracting, these are discussed here.\n",
    "Indexing: summary and comparison provides a summary of all methods.\n",
    "Fortunately, Series and data frames behave in a broadly similar way, e.g. selecting cases by logical conditions, based on index, and location are rather similar. As series do not have columns, we cannot access elements by column name or by column position though."
   ]
  },
  {
   "cell_type": "code",
   "execution_count": 41,
   "id": "615ba197",
   "metadata": {},
   "outputs": [],
   "source": [
    "# Download CSV with read_csv\n",
    "df = pd.read_csv('https://bitbucket.org/otoomet/lecturenotes/raw/master/data/gwbush-approval.csv', \\\n",
    " sep='\\t')"
   ]
  },
  {
   "cell_type": "code",
   "execution_count": 42,
   "id": "168cba67",
   "metadata": {},
   "outputs": [
    {
     "data": {
      "text/html": [
       "<div>\n",
       "<style scoped>\n",
       "    .dataframe tbody tr th:only-of-type {\n",
       "        vertical-align: middle;\n",
       "    }\n",
       "\n",
       "    .dataframe tbody tr th {\n",
       "        vertical-align: top;\n",
       "    }\n",
       "\n",
       "    .dataframe thead th {\n",
       "        text-align: right;\n",
       "    }\n",
       "</style>\n",
       "<table border=\"1\" class=\"dataframe\">\n",
       "  <thead>\n",
       "    <tr style=\"text-align: right;\">\n",
       "      <th></th>\n",
       "      <th>date</th>\n",
       "      <th>approve</th>\n",
       "      <th>disapprove</th>\n",
       "      <th>dontknow</th>\n",
       "    </tr>\n",
       "  </thead>\n",
       "  <tbody>\n",
       "    <tr>\n",
       "      <th>0</th>\n",
       "      <td>2001 Dec 14-16</td>\n",
       "      <td>86</td>\n",
       "      <td>11</td>\n",
       "      <td>3</td>\n",
       "    </tr>\n",
       "    <tr>\n",
       "      <th>1</th>\n",
       "      <td>2001 Dec 6-9</td>\n",
       "      <td>86</td>\n",
       "      <td>10</td>\n",
       "      <td>4</td>\n",
       "    </tr>\n",
       "  </tbody>\n",
       "</table>\n",
       "</div>"
      ],
      "text/plain": [
       "             date  approve  disapprove  dontknow\n",
       "0  2001 Dec 14-16       86          11         3\n",
       "1    2001 Dec 6-9       86          10         4"
      ]
     },
     "execution_count": 42,
     "metadata": {},
     "output_type": "execute_result"
    }
   ],
   "source": [
    "df.head(2)"
   ]
  },
  {
   "cell_type": "code",
   "execution_count": 47,
   "id": "e399562e",
   "metadata": {},
   "outputs": [
    {
     "data": {
      "text/html": [
       "<div>\n",
       "<style scoped>\n",
       "    .dataframe tbody tr th:only-of-type {\n",
       "        vertical-align: middle;\n",
       "    }\n",
       "\n",
       "    .dataframe tbody tr th {\n",
       "        vertical-align: top;\n",
       "    }\n",
       "\n",
       "    .dataframe thead th {\n",
       "        text-align: right;\n",
       "    }\n",
       "</style>\n",
       "<table border=\"1\" class=\"dataframe\">\n",
       "  <thead>\n",
       "    <tr style=\"text-align: right;\">\n",
       "      <th></th>\n",
       "      <th>date</th>\n",
       "      <th>approve</th>\n",
       "      <th>disapprove</th>\n",
       "      <th>dontknow</th>\n",
       "    </tr>\n",
       "  </thead>\n",
       "  <tbody>\n",
       "    <tr>\n",
       "      <th>0</th>\n",
       "      <td>2001 Dec 14-16</td>\n",
       "      <td>86</td>\n",
       "      <td>11</td>\n",
       "      <td>3</td>\n",
       "    </tr>\n",
       "    <tr>\n",
       "      <th>1</th>\n",
       "      <td>2001 Dec 6-9</td>\n",
       "      <td>86</td>\n",
       "      <td>10</td>\n",
       "      <td>4</td>\n",
       "    </tr>\n",
       "    <tr>\n",
       "      <th>2</th>\n",
       "      <td>2001 Nov 26-27</td>\n",
       "      <td>87</td>\n",
       "      <td>8</td>\n",
       "      <td>5</td>\n",
       "    </tr>\n",
       "    <tr>\n",
       "      <th>3</th>\n",
       "      <td>2001 Nov 8-11</td>\n",
       "      <td>87</td>\n",
       "      <td>9</td>\n",
       "      <td>4</td>\n",
       "    </tr>\n",
       "  </tbody>\n",
       "</table>\n",
       "</div>"
      ],
      "text/plain": [
       "             date  approve  disapprove  dontknow\n",
       "0  2001 Dec 14-16       86          11         3\n",
       "1    2001 Dec 6-9       86          10         4\n",
       "2  2001 Nov 26-27       87           8         5\n",
       "3   2001 Nov 8-11       87           9         4"
      ]
     },
     "execution_count": 47,
     "metadata": {},
     "output_type": "execute_result"
    }
   ],
   "source": [
    "approval.head(4)"
   ]
  },
  {
   "cell_type": "markdown",
   "id": "ccbcd1c6",
   "metadata": {},
   "source": [
    "To begin with, data frames have variable names. We can extract a single variable either with [\"varname\"] or a shorthand as attribute .varname (note: replace varname with the name of the relevant variable):\n",
    "\n"
   ]
  },
  {
   "cell_type": "code",
   "execution_count": 48,
   "id": "d5152617",
   "metadata": {},
   "outputs": [
    {
     "data": {
      "text/plain": [
       "0    86\n",
       "1    86\n",
       "2    87\n",
       "3    87\n",
       "4    87\n",
       "5    88\n",
       "6    89\n",
       "7    87\n",
       "8    90\n",
       "9    86\n",
       "Name: approve, dtype: int64"
      ]
     },
     "execution_count": 48,
     "metadata": {},
     "output_type": "execute_result"
    }
   ],
   "source": [
    "approval[\"approve\"]  # approval, as series"
   ]
  },
  {
   "cell_type": "code",
   "execution_count": 49,
   "id": "10dbd342",
   "metadata": {},
   "outputs": [
    {
     "data": {
      "text/plain": [
       "0    86\n",
       "1    86\n",
       "2    87\n",
       "3    87\n",
       "4    87\n",
       "5    88\n",
       "6    89\n",
       "7    87\n",
       "8    90\n",
       "9    86\n",
       "Name: approve, dtype: int64"
      ]
     },
     "execution_count": 49,
     "metadata": {},
     "output_type": "execute_result"
    }
   ],
   "source": [
    "approval.approve  # the same, as series"
   ]
  },
  {
   "cell_type": "markdown",
   "id": "b7b133c3",
   "metadata": {},
   "source": [
    "These constructs return the column as a series. If we prefer to get a single-column data frame, we can wrap the variable name into a list:"
   ]
  },
  {
   "cell_type": "code",
   "execution_count": 50,
   "id": "b45bceb6",
   "metadata": {},
   "outputs": [
    {
     "data": {
      "text/html": [
       "<div>\n",
       "<style scoped>\n",
       "    .dataframe tbody tr th:only-of-type {\n",
       "        vertical-align: middle;\n",
       "    }\n",
       "\n",
       "    .dataframe tbody tr th {\n",
       "        vertical-align: top;\n",
       "    }\n",
       "\n",
       "    .dataframe thead th {\n",
       "        text-align: right;\n",
       "    }\n",
       "</style>\n",
       "<table border=\"1\" class=\"dataframe\">\n",
       "  <thead>\n",
       "    <tr style=\"text-align: right;\">\n",
       "      <th></th>\n",
       "      <th>approve</th>\n",
       "    </tr>\n",
       "  </thead>\n",
       "  <tbody>\n",
       "    <tr>\n",
       "      <th>0</th>\n",
       "      <td>86</td>\n",
       "    </tr>\n",
       "    <tr>\n",
       "      <th>1</th>\n",
       "      <td>86</td>\n",
       "    </tr>\n",
       "    <tr>\n",
       "      <th>2</th>\n",
       "      <td>87</td>\n",
       "    </tr>\n",
       "    <tr>\n",
       "      <th>3</th>\n",
       "      <td>87</td>\n",
       "    </tr>\n",
       "    <tr>\n",
       "      <th>4</th>\n",
       "      <td>87</td>\n",
       "    </tr>\n",
       "    <tr>\n",
       "      <th>5</th>\n",
       "      <td>88</td>\n",
       "    </tr>\n",
       "    <tr>\n",
       "      <th>6</th>\n",
       "      <td>89</td>\n",
       "    </tr>\n",
       "    <tr>\n",
       "      <th>7</th>\n",
       "      <td>87</td>\n",
       "    </tr>\n",
       "    <tr>\n",
       "      <th>8</th>\n",
       "      <td>90</td>\n",
       "    </tr>\n",
       "    <tr>\n",
       "      <th>9</th>\n",
       "      <td>86</td>\n",
       "    </tr>\n",
       "  </tbody>\n",
       "</table>\n",
       "</div>"
      ],
      "text/plain": [
       "   approve\n",
       "0       86\n",
       "1       86\n",
       "2       87\n",
       "3       87\n",
       "4       87\n",
       "5       88\n",
       "6       89\n",
       "7       87\n",
       "8       90\n",
       "9       86"
      ]
     },
     "execution_count": 50,
     "metadata": {},
     "output_type": "execute_result"
    }
   ],
   "source": [
    "approval[[\"approve\"]]  # approval, as data frame"
   ]
  },
  {
   "cell_type": "markdown",
   "id": "fcd925ab",
   "metadata": {},
   "source": [
    "The attribute shorthand is usually the easier way, but it does not work if you need to use indirect variable name (variable name that is stored in another variable) or if the variable name contains spaces or other special characters. It also does not work for creating new variables in the data frame."
   ]
  },
  {
   "cell_type": "markdown",
   "id": "08796906",
   "metadata": {},
   "source": [
    "The previous example where we extracted a single column as a data frame instead of Series also hints how to extract more than one variable: just wrap all the required variable names into a list:"
   ]
  },
  {
   "cell_type": "code",
   "execution_count": 51,
   "id": "27d1a6a1",
   "metadata": {},
   "outputs": [
    {
     "data": {
      "text/html": [
       "<div>\n",
       "<style scoped>\n",
       "    .dataframe tbody tr th:only-of-type {\n",
       "        vertical-align: middle;\n",
       "    }\n",
       "\n",
       "    .dataframe tbody tr th {\n",
       "        vertical-align: top;\n",
       "    }\n",
       "\n",
       "    .dataframe thead th {\n",
       "        text-align: right;\n",
       "    }\n",
       "</style>\n",
       "<table border=\"1\" class=\"dataframe\">\n",
       "  <thead>\n",
       "    <tr style=\"text-align: right;\">\n",
       "      <th></th>\n",
       "      <th>date</th>\n",
       "      <th>approve</th>\n",
       "    </tr>\n",
       "  </thead>\n",
       "  <tbody>\n",
       "    <tr>\n",
       "      <th>0</th>\n",
       "      <td>2001 Dec 14-16</td>\n",
       "      <td>86</td>\n",
       "    </tr>\n",
       "    <tr>\n",
       "      <th>1</th>\n",
       "      <td>2001 Dec 6-9</td>\n",
       "      <td>86</td>\n",
       "    </tr>\n",
       "    <tr>\n",
       "      <th>2</th>\n",
       "      <td>2001 Nov 26-27</td>\n",
       "      <td>87</td>\n",
       "    </tr>\n",
       "    <tr>\n",
       "      <th>3</th>\n",
       "      <td>2001 Nov 8-11</td>\n",
       "      <td>87</td>\n",
       "    </tr>\n",
       "    <tr>\n",
       "      <th>4</th>\n",
       "      <td>2001 Nov 2-4</td>\n",
       "      <td>87</td>\n",
       "    </tr>\n",
       "    <tr>\n",
       "      <th>5</th>\n",
       "      <td>2001 Oct 19-21</td>\n",
       "      <td>88</td>\n",
       "    </tr>\n",
       "    <tr>\n",
       "      <th>6</th>\n",
       "      <td>2001 Oct 11-14</td>\n",
       "      <td>89</td>\n",
       "    </tr>\n",
       "    <tr>\n",
       "      <th>7</th>\n",
       "      <td>2001 Oct 5-6</td>\n",
       "      <td>87</td>\n",
       "    </tr>\n",
       "    <tr>\n",
       "      <th>8</th>\n",
       "      <td>2001 Sep 21-22</td>\n",
       "      <td>90</td>\n",
       "    </tr>\n",
       "    <tr>\n",
       "      <th>9</th>\n",
       "      <td>2001 Sep 14-15</td>\n",
       "      <td>86</td>\n",
       "    </tr>\n",
       "  </tbody>\n",
       "</table>\n",
       "</div>"
      ],
      "text/plain": [
       "             date  approve\n",
       "0  2001 Dec 14-16       86\n",
       "1    2001 Dec 6-9       86\n",
       "2  2001 Nov 26-27       87\n",
       "3   2001 Nov 8-11       87\n",
       "4    2001 Nov 2-4       87\n",
       "5  2001 Oct 19-21       88\n",
       "6  2001 Oct 11-14       89\n",
       "7    2001 Oct 5-6       87\n",
       "8  2001 Sep 21-22       90\n",
       "9  2001 Sep 14-15       86"
      ]
     },
     "execution_count": 51,
     "metadata": {},
     "output_type": "execute_result"
    }
   ],
   "source": [
    "vars = [\"date\", \"approve\"]\n",
    "approval[vars]"
   ]
  },
  {
   "cell_type": "markdown",
   "id": "d52729f6",
   "metadata": {},
   "source": [
    "There are no attribute shortcuts to extract multiple columns."
   ]
  },
  {
   "cell_type": "markdown",
   "id": "037853ee",
   "metadata": {},
   "source": [
    "### Filter observations with logical operations"
   ]
  },
  {
   "cell_type": "markdown",
   "id": "deb48d8e",
   "metadata": {},
   "source": [
    "Filtering refers to extracting only a subset of rows from the dataframe based on certain conditions. The conditions are logical operations that can be either true or false, depending on the values in each row. Filtering produces a sub-dataframe where only those observations that meet the selection criteria are present: Here is an example:"
   ]
  },
  {
   "cell_type": "code",
   "execution_count": 52,
   "id": "38569dec",
   "metadata": {},
   "outputs": [
    {
     "data": {
      "text/html": [
       "<div>\n",
       "<style scoped>\n",
       "    .dataframe tbody tr th:only-of-type {\n",
       "        vertical-align: middle;\n",
       "    }\n",
       "\n",
       "    .dataframe tbody tr th {\n",
       "        vertical-align: top;\n",
       "    }\n",
       "\n",
       "    .dataframe thead th {\n",
       "        text-align: right;\n",
       "    }\n",
       "</style>\n",
       "<table border=\"1\" class=\"dataframe\">\n",
       "  <thead>\n",
       "    <tr style=\"text-align: right;\">\n",
       "      <th></th>\n",
       "      <th>date</th>\n",
       "      <th>approve</th>\n",
       "      <th>disapprove</th>\n",
       "      <th>dontknow</th>\n",
       "    </tr>\n",
       "  </thead>\n",
       "  <tbody>\n",
       "    <tr>\n",
       "      <th>6</th>\n",
       "      <td>2001 Oct 11-14</td>\n",
       "      <td>89</td>\n",
       "      <td>8</td>\n",
       "      <td>3</td>\n",
       "    </tr>\n",
       "    <tr>\n",
       "      <th>8</th>\n",
       "      <td>2001 Sep 21-22</td>\n",
       "      <td>90</td>\n",
       "      <td>6</td>\n",
       "      <td>4</td>\n",
       "    </tr>\n",
       "  </tbody>\n",
       "</table>\n",
       "</div>"
      ],
      "text/plain": [
       "             date  approve  disapprove  dontknow\n",
       "6  2001 Oct 11-14       89           8         3\n",
       "8  2001 Sep 21-22       90           6         4"
      ]
     },
     "execution_count": 52,
     "metadata": {},
     "output_type": "execute_result"
    }
   ],
   "source": [
    "approval[approval.approve > 88]"
   ]
  },
  {
   "cell_type": "markdown",
   "id": "30a27ecb",
   "metadata": {},
   "source": [
    "Note that we have to refer to data variables as approval.approve, not just approve, unlike in R dplyr where one can just write approve. This is somewhat harder to write but it is less ambiguous and produces fewer hard-to-find bugs.\n",
    "\n",
    "Obviously we can use more complex selection conditions, for instance we can look for very low or very high approval rates as follows:"
   ]
  },
  {
   "cell_type": "code",
   "execution_count": 53,
   "id": "f2466c34",
   "metadata": {},
   "outputs": [
    {
     "data": {
      "text/html": [
       "<div>\n",
       "<style scoped>\n",
       "    .dataframe tbody tr th:only-of-type {\n",
       "        vertical-align: middle;\n",
       "    }\n",
       "\n",
       "    .dataframe tbody tr th {\n",
       "        vertical-align: top;\n",
       "    }\n",
       "\n",
       "    .dataframe thead th {\n",
       "        text-align: right;\n",
       "    }\n",
       "</style>\n",
       "<table border=\"1\" class=\"dataframe\">\n",
       "  <thead>\n",
       "    <tr style=\"text-align: right;\">\n",
       "      <th></th>\n",
       "      <th>date</th>\n",
       "      <th>approve</th>\n",
       "      <th>disapprove</th>\n",
       "      <th>dontknow</th>\n",
       "    </tr>\n",
       "  </thead>\n",
       "  <tbody>\n",
       "    <tr>\n",
       "      <th>8</th>\n",
       "      <td>2001 Sep 21-22</td>\n",
       "      <td>90</td>\n",
       "      <td>6</td>\n",
       "      <td>4</td>\n",
       "    </tr>\n",
       "  </tbody>\n",
       "</table>\n",
       "</div>"
      ],
      "text/plain": [
       "             date  approve  disapprove  dontknow\n",
       "8  2001 Sep 21-22       90           6         4"
      ]
     },
     "execution_count": 53,
     "metadata": {},
     "output_type": "execute_result"
    }
   ],
   "source": [
    "approval[(approval.approve < 86) | (approval.approve > 89)]"
   ]
  },
  {
   "cell_type": "markdown",
   "id": "39b736af",
   "metadata": {},
   "source": [
    "Note that we are using the vectorized “or” operator |, not the base python or. We also need to wrap both the “less than” and “greater than” parts in parenthesis."
   ]
  },
  {
   "cell_type": "markdown",
   "id": "37d18222",
   "metadata": {},
   "source": [
    "How many polls in the data show the president’s approval rate at least 88%? At which dates are those polls conducted?"
   ]
  },
  {
   "cell_type": "code",
   "execution_count": 54,
   "id": "879226d4",
   "metadata": {},
   "outputs": [
    {
     "data": {
      "text/html": [
       "<div>\n",
       "<style scoped>\n",
       "    .dataframe tbody tr th:only-of-type {\n",
       "        vertical-align: middle;\n",
       "    }\n",
       "\n",
       "    .dataframe tbody tr th {\n",
       "        vertical-align: top;\n",
       "    }\n",
       "\n",
       "    .dataframe thead th {\n",
       "        text-align: right;\n",
       "    }\n",
       "</style>\n",
       "<table border=\"1\" class=\"dataframe\">\n",
       "  <thead>\n",
       "    <tr style=\"text-align: right;\">\n",
       "      <th></th>\n",
       "      <th>date</th>\n",
       "      <th>approve</th>\n",
       "    </tr>\n",
       "  </thead>\n",
       "  <tbody>\n",
       "    <tr>\n",
       "      <th>5</th>\n",
       "      <td>2001 Oct 19-21</td>\n",
       "      <td>88</td>\n",
       "    </tr>\n",
       "    <tr>\n",
       "      <th>6</th>\n",
       "      <td>2001 Oct 11-14</td>\n",
       "      <td>89</td>\n",
       "    </tr>\n",
       "    <tr>\n",
       "      <th>8</th>\n",
       "      <td>2001 Sep 21-22</td>\n",
       "      <td>90</td>\n",
       "    </tr>\n",
       "  </tbody>\n",
       "</table>\n",
       "</div>"
      ],
      "text/plain": [
       "             date  approve\n",
       "5  2001 Oct 19-21       88\n",
       "6  2001 Oct 11-14       89\n",
       "8  2001 Sep 21-22       90"
      ]
     },
     "execution_count": 54,
     "metadata": {},
     "output_type": "execute_result"
    }
   ],
   "source": [
    "approval[approval.approve >= 88][[\"date\", \"approve\"]]  # only print date,\n",
    "    # approval rate"
   ]
  },
  {
   "cell_type": "code",
   "execution_count": 55,
   "id": "7d824954",
   "metadata": {},
   "outputs": [
    {
     "data": {
      "text/plain": [
       "3"
      ]
     },
     "execution_count": 55,
     "metadata": {},
     "output_type": "execute_result"
    }
   ],
   "source": [
    "approval[approval.approve >= 88].shape[0]  # data for at least 90% approval"
   ]
  },
  {
   "cell_type": "markdown",
   "id": "3e7fab61",
   "metadata": {},
   "source": [
    "The filtered object is not a new data frame but a view of the original data frame. This may give you warnings and errors later when you attempt to modify the filtered data. If you intend to do that, perform a deep copy of data using the .copy method."
   ]
  },
  {
   "cell_type": "markdown",
   "id": "1eb98319",
   "metadata": {},
   "source": [
    "### Positional indexing of Series"
   ]
  },
  {
   "cell_type": "markdown",
   "id": "63e60cfc",
   "metadata": {},
   "source": [
    "Besides selecting variables and filtering by logical conditions, we occasionally need to access elements by index, or by position (location). Here we demonstrate the positional indexing using a series object, positional indexing of data frames is discussed below:"
   ]
  },
  {
   "cell_type": "code",
   "execution_count": 56,
   "id": "7f5afe88",
   "metadata": {},
   "outputs": [
    {
     "data": {
      "text/plain": [
       "MY     32.7\n",
       "ID    267.7\n",
       "KH     15.3\n",
       "dtype: float64"
      ]
     },
     "execution_count": 56,
     "metadata": {},
     "output_type": "execute_result"
    }
   ],
   "source": [
    "pop = pd.Series([32.7, 267.7, 15.3],  # in millions\n",
    "                index=[\"MY\", \"ID\", \"KH\"])\n",
    "pop"
   ]
  },
  {
   "cell_type": "markdown",
   "id": "1cbc3d80",
   "metadata": {},
   "source": [
    "We can access series’ values in two ways: by position, and by index. In order to access elements by position, we have to use attribute .iloc[] where i loc refers to “integer”. Unlike most other methods, .iloc expects arguments in brackets. A single number in brackets returns the element as an element (e.g. a single number), if brackets contain a list (this looks like double brackets), it returns a series, potentially containing only a single element. So in order to extract 2nd and 3rd element in the population series, we can write:"
   ]
  },
  {
   "cell_type": "code",
   "execution_count": 57,
   "id": "41dccc5c",
   "metadata": {},
   "outputs": [
    {
     "data": {
      "text/plain": [
       "267.7"
      ]
     },
     "execution_count": 57,
     "metadata": {},
     "output_type": "execute_result"
    }
   ],
   "source": [
    "pop.iloc[1]  # extract 2nd element as a number"
   ]
  },
  {
   "cell_type": "code",
   "execution_count": 58,
   "id": "0c28f801",
   "metadata": {},
   "outputs": [
    {
     "data": {
      "text/plain": [
       "ID    267.7\n",
       "KH     15.3\n",
       "dtype: float64"
      ]
     },
     "execution_count": 58,
     "metadata": {},
     "output_type": "execute_result"
    }
   ],
   "source": [
    "pop.iloc[[1,2]]   # extract 2nd, 3th as a series"
   ]
  },
  {
   "cell_type": "markdown",
   "id": "024dcdc3",
   "metadata": {},
   "source": [
    "Alternatively, we can also extract the elements by index. This works in a similar fashion, except we have to use .loc[] instead of .iloc[]. The rules for single and double brackets apply in the similar fashion as in case of positional access."
   ]
  },
  {
   "cell_type": "code",
   "execution_count": 59,
   "id": "8d6dfd14",
   "metadata": {},
   "outputs": [
    {
     "data": {
      "text/plain": [
       "267.7"
      ]
     },
     "execution_count": 59,
     "metadata": {},
     "output_type": "execute_result"
    }
   ],
   "source": [
    "pop.loc[\"ID\"]  # extract Indonesian population as a number"
   ]
  },
  {
   "cell_type": "code",
   "execution_count": 60,
   "id": "a392370d",
   "metadata": {},
   "outputs": [
    {
     "data": {
      "text/plain": [
       "ID    267.7\n",
       "MY     32.7\n",
       "dtype: float64"
      ]
     },
     "execution_count": 60,
     "metadata": {},
     "output_type": "execute_result"
    }
   ],
   "source": [
    "pop.loc[[\"ID\", \"MY\"]]  # extract Indonesian and Malaysian population\n",
    "# as a series"
   ]
  },
  {
   "cell_type": "markdown",
   "id": "48fb3314",
   "metadata": {},
   "source": [
    "One can also drop the .loc[] syntax and just use square brackets, so instead of writing pop.loc[[\"ID\", \"MY\"]], one can just write pop[[\"ID\", \"MY\"]]."
   ]
  },
  {
   "cell_type": "markdown",
   "id": "747a9411",
   "metadata": {},
   "source": [
    "The fact that there are several ways to extract positional data causes a lot of confusion for beginners. It is not helped by the common habit of not using indices and just relying on the automatic row-numbers. In this case positional access by .iloc[] produces exactly the same results as the index access by .loc[], and one can conveniently forget about the index and use whatever feels easier. But sometimes the index changes as a result of certain operations and that may lead to errors or unexpected results. For instance, we can create an alternative population series without explicit index:"
   ]
  },
  {
   "cell_type": "code",
   "execution_count": 61,
   "id": "a9515bcc",
   "metadata": {},
   "outputs": [
    {
     "data": {
      "text/plain": [
       "0     NaN\n",
       "1    26.0\n",
       "2    19.0\n",
       "3    13.0\n",
       "dtype: float64"
      ]
     },
     "execution_count": 61,
     "metadata": {},
     "output_type": "execute_result"
    }
   ],
   "source": [
    "pop1 = pd.Series([np.nan, 26, 19, 13])  # index is 0, 1, ...\n",
    "pop1"
   ]
  },
  {
   "cell_type": "markdown",
   "id": "f0378234",
   "metadata": {},
   "source": [
    "In this example, position and index are equivalent and hence it is easy to forget that .loc[] is index-based access, not positional access! So one may freely mix both methods (and remember, .loc is not needed):"
   ]
  },
  {
   "cell_type": "code",
   "execution_count": 62,
   "id": "41acd4da",
   "metadata": {},
   "outputs": [
    {
     "data": {
      "text/plain": [
       "19.0"
      ]
     },
     "execution_count": 62,
     "metadata": {},
     "output_type": "execute_result"
    }
   ],
   "source": [
    "pop1.loc[2]"
   ]
  },
  {
   "cell_type": "code",
   "execution_count": 63,
   "id": "124f20f7",
   "metadata": {},
   "outputs": [
    {
     "data": {
      "text/plain": [
       "19.0"
      ]
     },
     "execution_count": 63,
     "metadata": {},
     "output_type": "execute_result"
    }
   ],
   "source": [
    "pop1.iloc[2]"
   ]
  },
  {
   "cell_type": "code",
   "execution_count": 64,
   "id": "1b0e95b7",
   "metadata": {},
   "outputs": [
    {
     "data": {
      "text/plain": [
       "19.0"
      ]
     },
     "execution_count": 64,
     "metadata": {},
     "output_type": "execute_result"
    }
   ],
   "source": [
    "pop1[2]"
   ]
  },
  {
   "cell_type": "markdown",
   "id": "16a660f3",
   "metadata": {},
   "source": [
    "This becomes a problem if a numeric index is not equivalent to row number any more, for instance after we drop missings:"
   ]
  },
  {
   "cell_type": "code",
   "execution_count": 65,
   "id": "34e00a10",
   "metadata": {},
   "outputs": [
    {
     "data": {
      "text/plain": [
       "1    26.0\n",
       "2    19.0\n",
       "3    13.0\n",
       "dtype: float64"
      ]
     },
     "execution_count": 65,
     "metadata": {},
     "output_type": "execute_result"
    }
   ],
   "source": [
    "pop2 = pop1.dropna()  # remove missings\n",
    "pop2  # note: the first row has index 1"
   ]
  },
  {
   "cell_type": "code",
   "execution_count": 66,
   "id": "7ebbc358",
   "metadata": {},
   "outputs": [
    {
     "data": {
      "text/plain": [
       "13.0"
      ]
     },
     "execution_count": 66,
     "metadata": {},
     "output_type": "execute_result"
    }
   ],
   "source": [
    "pop2.iloc[2]  # this is by position"
   ]
  },
  {
   "cell_type": "code",
   "execution_count": 67,
   "id": "57e59da8",
   "metadata": {},
   "outputs": [
    {
     "data": {
      "text/plain": [
       "19.0"
      ]
     },
     "execution_count": 67,
     "metadata": {},
     "output_type": "execute_result"
    }
   ],
   "source": [
    "pop2.loc[2]  # this is by index"
   ]
  },
  {
   "cell_type": "code",
   "execution_count": 68,
   "id": "8b9edaa4",
   "metadata": {},
   "outputs": [
    {
     "data": {
      "text/plain": [
       "19.0"
      ]
     },
     "execution_count": 68,
     "metadata": {},
     "output_type": "execute_result"
    }
   ],
   "source": [
    "pop2[2]  # also by index"
   ]
  },
  {
   "cell_type": "markdown",
   "id": "abd13bc8",
   "metadata": {},
   "source": [
    "Additionally, if pop2 for some reason turns into a numpy array, then pop2[2] is is based on position as arrays do not have index!"
   ]
  },
  {
   "cell_type": "markdown",
   "id": "1878f0a2",
   "metadata": {},
   "source": [
    "### Positional indexing of data frames"
   ]
  },
  {
   "cell_type": "code",
   "execution_count": 69,
   "id": "811b14d8",
   "metadata": {},
   "outputs": [
    {
     "data": {
      "text/html": [
       "<div>\n",
       "<style scoped>\n",
       "    .dataframe tbody tr th:only-of-type {\n",
       "        vertical-align: middle;\n",
       "    }\n",
       "\n",
       "    .dataframe tbody tr th {\n",
       "        vertical-align: top;\n",
       "    }\n",
       "\n",
       "    .dataframe thead th {\n",
       "        text-align: right;\n",
       "    }\n",
       "</style>\n",
       "<table border=\"1\" class=\"dataframe\">\n",
       "  <thead>\n",
       "    <tr style=\"text-align: right;\">\n",
       "      <th></th>\n",
       "      <th>capital</th>\n",
       "      <th>population</th>\n",
       "    </tr>\n",
       "  </thead>\n",
       "  <tbody>\n",
       "    <tr>\n",
       "      <th>MY</th>\n",
       "      <td>Kuala Lumpur</td>\n",
       "      <td>32.7</td>\n",
       "    </tr>\n",
       "    <tr>\n",
       "      <th>ID</th>\n",
       "      <td>Jakarta</td>\n",
       "      <td>267.7</td>\n",
       "    </tr>\n",
       "    <tr>\n",
       "      <th>KH</th>\n",
       "      <td>Phnom Penh</td>\n",
       "      <td>15.3</td>\n",
       "    </tr>\n",
       "  </tbody>\n",
       "</table>\n",
       "</div>"
      ],
      "text/plain": [
       "         capital  population\n",
       "MY  Kuala Lumpur        32.7\n",
       "ID       Jakarta       267.7\n",
       "KH    Phnom Penh        15.3"
      ]
     },
     "execution_count": 69,
     "metadata": {},
     "output_type": "execute_result"
    }
   ],
   "source": [
    "countries = pd.DataFrame({\"capital\":[\"Kuala Lumpur\", \"Jakarta\", \"Phnom Penh\"],\n",
    "                     \"population\":[32.7, 267.7, 15.3]},  # in millions\n",
    "                    index=[\"MY\", \"ID\", \"KH\"])\n",
    "countries"
   ]
  },
  {
   "cell_type": "markdown",
   "id": "34e65824",
   "metadata": {},
   "source": [
    "(MY is Malaysia, ID Indonesia and KH is Cambodia)."
   ]
  },
  {
   "cell_type": "code",
   "execution_count": null,
   "id": "191de2c0",
   "metadata": {},
   "outputs": [],
   "source": []
  }
 ],
 "metadata": {
  "kernelspec": {
   "display_name": "Python 3 (ipykernel)",
   "language": "python",
   "name": "python3"
  },
  "language_info": {
   "codemirror_mode": {
    "name": "ipython",
    "version": 3
   },
   "file_extension": ".py",
   "mimetype": "text/x-python",
   "name": "python",
   "nbconvert_exporter": "python",
   "pygments_lexer": "ipython3",
   "version": "3.11.3"
  }
 },
 "nbformat": 4,
 "nbformat_minor": 5
}
